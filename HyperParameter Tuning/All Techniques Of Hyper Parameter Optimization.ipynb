{
 "cells": [
  {
   "cell_type": "markdown",
   "metadata": {},
   "source": [
    "# All Techniques Of Hyper Parameter Optimization\n",
    "1) GridSearchCV\n",
    "2) RandomizedSearchCV\n",
    "3) Bayesian Optimization -Automate Hyperparameter Tuning (Hyperopt)\n",
    "4) Sequential Model Based Optimization(Tuning a scikit-learn estimator with skopt)\n",
    "5) Optuna- Automate Hyperparameter Tuning\n",
    "6) Genetic Algorithms (TPOT Classifier)"
   ]
  },
  {
   "cell_type": "code",
   "execution_count": 1,
   "metadata": {},
   "outputs": [],
   "source": [
    "import warnings\n",
    "warnings.filterwarnings('ignore')"
   ]
  },
  {
   "cell_type": "code",
   "execution_count": 2,
   "metadata": {},
   "outputs": [
    {
     "data": {
      "text/html": [
       "<div>\n",
       "<style scoped>\n",
       "    .dataframe tbody tr th:only-of-type {\n",
       "        vertical-align: middle;\n",
       "    }\n",
       "\n",
       "    .dataframe tbody tr th {\n",
       "        vertical-align: top;\n",
       "    }\n",
       "\n",
       "    .dataframe thead th {\n",
       "        text-align: right;\n",
       "    }\n",
       "</style>\n",
       "<table border=\"1\" class=\"dataframe\">\n",
       "  <thead>\n",
       "    <tr style=\"text-align: right;\">\n",
       "      <th></th>\n",
       "      <th>Pregnancies</th>\n",
       "      <th>Glucose</th>\n",
       "      <th>BloodPressure</th>\n",
       "      <th>SkinThickness</th>\n",
       "      <th>Insulin</th>\n",
       "      <th>BMI</th>\n",
       "      <th>DiabetesPedigreeFunction</th>\n",
       "      <th>Age</th>\n",
       "      <th>Outcome</th>\n",
       "    </tr>\n",
       "  </thead>\n",
       "  <tbody>\n",
       "    <tr>\n",
       "      <th>0</th>\n",
       "      <td>6</td>\n",
       "      <td>148</td>\n",
       "      <td>72</td>\n",
       "      <td>35</td>\n",
       "      <td>0</td>\n",
       "      <td>33.6</td>\n",
       "      <td>0.627</td>\n",
       "      <td>50</td>\n",
       "      <td>1</td>\n",
       "    </tr>\n",
       "    <tr>\n",
       "      <th>1</th>\n",
       "      <td>1</td>\n",
       "      <td>85</td>\n",
       "      <td>66</td>\n",
       "      <td>29</td>\n",
       "      <td>0</td>\n",
       "      <td>26.6</td>\n",
       "      <td>0.351</td>\n",
       "      <td>31</td>\n",
       "      <td>0</td>\n",
       "    </tr>\n",
       "    <tr>\n",
       "      <th>2</th>\n",
       "      <td>8</td>\n",
       "      <td>183</td>\n",
       "      <td>64</td>\n",
       "      <td>0</td>\n",
       "      <td>0</td>\n",
       "      <td>23.3</td>\n",
       "      <td>0.672</td>\n",
       "      <td>32</td>\n",
       "      <td>1</td>\n",
       "    </tr>\n",
       "    <tr>\n",
       "      <th>3</th>\n",
       "      <td>1</td>\n",
       "      <td>89</td>\n",
       "      <td>66</td>\n",
       "      <td>23</td>\n",
       "      <td>94</td>\n",
       "      <td>28.1</td>\n",
       "      <td>0.167</td>\n",
       "      <td>21</td>\n",
       "      <td>0</td>\n",
       "    </tr>\n",
       "    <tr>\n",
       "      <th>4</th>\n",
       "      <td>0</td>\n",
       "      <td>137</td>\n",
       "      <td>40</td>\n",
       "      <td>35</td>\n",
       "      <td>168</td>\n",
       "      <td>43.1</td>\n",
       "      <td>2.288</td>\n",
       "      <td>33</td>\n",
       "      <td>1</td>\n",
       "    </tr>\n",
       "  </tbody>\n",
       "</table>\n",
       "</div>"
      ],
      "text/plain": [
       "   Pregnancies  Glucose  BloodPressure  SkinThickness  Insulin   BMI  \\\n",
       "0            6      148             72             35        0  33.6   \n",
       "1            1       85             66             29        0  26.6   \n",
       "2            8      183             64              0        0  23.3   \n",
       "3            1       89             66             23       94  28.1   \n",
       "4            0      137             40             35      168  43.1   \n",
       "\n",
       "   DiabetesPedigreeFunction  Age  Outcome  \n",
       "0                     0.627   50        1  \n",
       "1                     0.351   31        0  \n",
       "2                     0.672   32        1  \n",
       "3                     0.167   21        0  \n",
       "4                     2.288   33        1  "
      ]
     },
     "execution_count": 2,
     "metadata": {},
     "output_type": "execute_result"
    }
   ],
   "source": [
    "import pandas as pd\n",
    "df=pd.read_csv(r'C:\\Users\\user\\Pictures\\PYTHON_PANDAS\\diabetes.csv')\n",
    "df.head()"
   ]
  },
  {
   "cell_type": "code",
   "execution_count": 3,
   "metadata": {},
   "outputs": [
    {
     "data": {
      "text/html": [
       "<div>\n",
       "<style scoped>\n",
       "    .dataframe tbody tr th:only-of-type {\n",
       "        vertical-align: middle;\n",
       "    }\n",
       "\n",
       "    .dataframe tbody tr th {\n",
       "        vertical-align: top;\n",
       "    }\n",
       "\n",
       "    .dataframe thead th {\n",
       "        text-align: right;\n",
       "    }\n",
       "</style>\n",
       "<table border=\"1\" class=\"dataframe\">\n",
       "  <thead>\n",
       "    <tr style=\"text-align: right;\">\n",
       "      <th></th>\n",
       "      <th>Pregnancies</th>\n",
       "      <th>Glucose</th>\n",
       "      <th>BloodPressure</th>\n",
       "      <th>SkinThickness</th>\n",
       "      <th>Insulin</th>\n",
       "      <th>BMI</th>\n",
       "      <th>DiabetesPedigreeFunction</th>\n",
       "      <th>Age</th>\n",
       "      <th>Outcome</th>\n",
       "    </tr>\n",
       "  </thead>\n",
       "  <tbody>\n",
       "    <tr>\n",
       "      <th>0</th>\n",
       "      <td>6</td>\n",
       "      <td>148.0</td>\n",
       "      <td>72</td>\n",
       "      <td>35.0</td>\n",
       "      <td>30.5</td>\n",
       "      <td>33.6</td>\n",
       "      <td>0.627</td>\n",
       "      <td>50</td>\n",
       "      <td>1</td>\n",
       "    </tr>\n",
       "    <tr>\n",
       "      <th>1</th>\n",
       "      <td>1</td>\n",
       "      <td>85.0</td>\n",
       "      <td>66</td>\n",
       "      <td>29.0</td>\n",
       "      <td>30.5</td>\n",
       "      <td>26.6</td>\n",
       "      <td>0.351</td>\n",
       "      <td>31</td>\n",
       "      <td>0</td>\n",
       "    </tr>\n",
       "    <tr>\n",
       "      <th>2</th>\n",
       "      <td>8</td>\n",
       "      <td>183.0</td>\n",
       "      <td>64</td>\n",
       "      <td>23.0</td>\n",
       "      <td>30.5</td>\n",
       "      <td>23.3</td>\n",
       "      <td>0.672</td>\n",
       "      <td>32</td>\n",
       "      <td>1</td>\n",
       "    </tr>\n",
       "    <tr>\n",
       "      <th>3</th>\n",
       "      <td>1</td>\n",
       "      <td>89.0</td>\n",
       "      <td>66</td>\n",
       "      <td>23.0</td>\n",
       "      <td>94.0</td>\n",
       "      <td>28.1</td>\n",
       "      <td>0.167</td>\n",
       "      <td>21</td>\n",
       "      <td>0</td>\n",
       "    </tr>\n",
       "    <tr>\n",
       "      <th>4</th>\n",
       "      <td>0</td>\n",
       "      <td>137.0</td>\n",
       "      <td>40</td>\n",
       "      <td>35.0</td>\n",
       "      <td>168.0</td>\n",
       "      <td>43.1</td>\n",
       "      <td>2.288</td>\n",
       "      <td>33</td>\n",
       "      <td>1</td>\n",
       "    </tr>\n",
       "  </tbody>\n",
       "</table>\n",
       "</div>"
      ],
      "text/plain": [
       "   Pregnancies  Glucose  BloodPressure  SkinThickness  Insulin   BMI  \\\n",
       "0            6    148.0             72           35.0     30.5  33.6   \n",
       "1            1     85.0             66           29.0     30.5  26.6   \n",
       "2            8    183.0             64           23.0     30.5  23.3   \n",
       "3            1     89.0             66           23.0     94.0  28.1   \n",
       "4            0    137.0             40           35.0    168.0  43.1   \n",
       "\n",
       "   DiabetesPedigreeFunction  Age  Outcome  \n",
       "0                     0.627   50        1  \n",
       "1                     0.351   31        0  \n",
       "2                     0.672   32        1  \n",
       "3                     0.167   21        0  \n",
       "4                     2.288   33        1  "
      ]
     },
     "execution_count": 3,
     "metadata": {},
     "output_type": "execute_result"
    }
   ],
   "source": [
    "import numpy as np\n",
    "df['Glucose']=np.where(df['Glucose']==0,df['Glucose'].median(),df['Glucose'])\n",
    "df['Insulin']=np.where(df['Insulin']==0,df['Insulin'].median(),df['Insulin'])\n",
    "df['SkinThickness']=np.where(df['SkinThickness']==0,df['SkinThickness'].median(),df['SkinThickness'])\n",
    "\n",
    "df.head()"
   ]
  },
  {
   "cell_type": "code",
   "execution_count": 4,
   "metadata": {},
   "outputs": [],
   "source": [
    "#### Independent And Dependent features\n",
    "X=df.drop('Outcome',axis=1)\n",
    "y=df['Outcome']"
   ]
  },
  {
   "cell_type": "code",
   "execution_count": 5,
   "metadata": {},
   "outputs": [
    {
     "name": "stdout",
     "output_type": "stream",
     "text": [
      "shape of X :  (768, 8)\n",
      "shape of y :  (768,)\n"
     ]
    }
   ],
   "source": [
    "print(\"shape of X : \",X.shape)\n",
    "print(\"shape of y : \",y.shape)"
   ]
  },
  {
   "cell_type": "markdown",
   "metadata": {},
   "source": [
    "### Train Test Split"
   ]
  },
  {
   "cell_type": "code",
   "execution_count": 10,
   "metadata": {},
   "outputs": [],
   "source": [
    "from sklearn.model_selection import train_test_split\n",
    "X_train,X_test,y_train,y_test=train_test_split(X,y,test_size=0.20,random_state=33)"
   ]
  },
  {
   "cell_type": "code",
   "execution_count": 11,
   "metadata": {},
   "outputs": [
    {
     "name": "stdout",
     "output_type": "stream",
     "text": [
      "shape of X_train :  (614, 8)\n",
      "shape of y_train :  (614,)\n",
      "shape of X_test :  (154, 8)\n",
      "shape of y_test :  (154,)\n"
     ]
    }
   ],
   "source": [
    "print(\"shape of X_train : \",X_train.shape)\n",
    "print(\"shape of y_train : \",y_train.shape)\n",
    "print(\"shape of X_test : \",X_test.shape)\n",
    "print(\"shape of y_test : \",y_test.shape)"
   ]
  },
  {
   "cell_type": "code",
   "execution_count": 12,
   "metadata": {},
   "outputs": [
    {
     "data": {
      "text/plain": [
       "0    500\n",
       "1    268\n",
       "Name: Outcome, dtype: int64"
      ]
     },
     "execution_count": 12,
     "metadata": {},
     "output_type": "execute_result"
    }
   ],
   "source": [
    "y.value_counts()\n"
   ]
  },
  {
   "cell_type": "markdown",
   "metadata": {},
   "source": [
    "-- Data is not imbalanced"
   ]
  },
  {
   "cell_type": "markdown",
   "metadata": {},
   "source": [
    "## RandomForestCLasssifier "
   ]
  },
  {
   "cell_type": "code",
   "execution_count": 22,
   "metadata": {},
   "outputs": [],
   "source": [
    "from sklearn.ensemble import RandomForestClassifier\n",
    "rf_classifier=RandomForestClassifier(n_estimators=10).fit(X_train,y_train)\n",
    "prediction=rf_classifier.predict(X_test)"
   ]
  },
  {
   "cell_type": "code",
   "execution_count": 23,
   "metadata": {},
   "outputs": [
    {
     "name": "stdout",
     "output_type": "stream",
     "text": [
      "[[87 12]\n",
      " [24 31]]\n",
      "------------------------------------------------------------------\n",
      "0.7662337662337663\n",
      "------------------------------------------------------------------\n",
      "              precision    recall  f1-score   support\n",
      "\n",
      "           0       0.78      0.88      0.83        99\n",
      "           1       0.72      0.56      0.63        55\n",
      "\n",
      "    accuracy                           0.77       154\n",
      "   macro avg       0.75      0.72      0.73       154\n",
      "weighted avg       0.76      0.77      0.76       154\n",
      "\n"
     ]
    }
   ],
   "source": [
    "from sklearn.metrics import confusion_matrix,classification_report,accuracy_score\n",
    "print(confusion_matrix(y_test,prediction))\n",
    "print(\"------------------------------------------------------------------\")\n",
    "print(accuracy_score(y_test,prediction))\n",
    "print(\"------------------------------------------------------------------\")\n",
    "print(classification_report(y_test,prediction))"
   ]
  },
  {
   "cell_type": "markdown",
   "metadata": {},
   "source": [
    "### The main parameters used by a Random Forest Classifier are:\n",
    "\n",
    "--> criterion = the function used to evaluate the quality of a split. || \n",
    "--> max_depth = maximum number of levels allowed in each tree.  ||\n",
    "--> max_features = maximum number of features considered when splitting a node.  ||\n",
    "--> min_samples_leaf = minimum number of samples which can be stored in a tree leaf.   ||\n",
    "--> min_samples_split = minimum number of samples necessary in a node to cause node splitting.   ||\n",
    "--> n_estimators = number of trees in the ensamble.   ||"
   ]
  },
  {
   "cell_type": "code",
   "execution_count": 24,
   "metadata": {},
   "outputs": [
    {
     "name": "stdout",
     "output_type": "stream",
     "text": [
      "[[87 12]\n",
      " [28 27]]\n",
      "0.7402597402597403\n",
      "              precision    recall  f1-score   support\n",
      "\n",
      "           0       0.76      0.88      0.81        99\n",
      "           1       0.69      0.49      0.57        55\n",
      "\n",
      "    accuracy                           0.74       154\n",
      "   macro avg       0.72      0.68      0.69       154\n",
      "weighted avg       0.73      0.74      0.73       154\n",
      "\n"
     ]
    }
   ],
   "source": [
    "### Manual Hyperparameter Tuning\n",
    "model=RandomForestClassifier(n_estimators=300,criterion='entropy',\n",
    "                             max_features='sqrt',min_samples_leaf=10,random_state=100).fit(X_train,y_train)\n",
    "predictions=model.predict(X_test)\n",
    "print(confusion_matrix(y_test,predictions))\n",
    "print(accuracy_score(y_test,predictions))\n",
    "print(classification_report(y_test,predictions))"
   ]
  },
  {
   "cell_type": "markdown",
   "metadata": {},
   "source": [
    "# Randomized Search Cv\n"
   ]
  },
  {
   "cell_type": "code",
   "execution_count": 25,
   "metadata": {},
   "outputs": [
    {
     "name": "stdout",
     "output_type": "stream",
     "text": [
      "{'n_estimators': [200, 400, 600, 800, 1000, 1200, 1400, 1600, 1800, 2000], 'max_features': ['auto', 'sqrt', 'log2'], 'max_depth': [10, 120, 230, 340, 450, 560, 670, 780, 890, 1000], 'min_samples_split': [1, 3, 4, 5, 7, 9], 'min_samples_leaf': [1, 2, 4, 6, 8], 'criterion': ['entropy', 'gini']}\n"
     ]
    }
   ],
   "source": [
    "import numpy as np\n",
    "from sklearn.model_selection import RandomizedSearchCV\n",
    "# Number of trees in random forest\n",
    "n_estimators = [int(x) for x in np.linspace(start = 200, stop = 2000, num = 10)]\n",
    "# Number of features to consider at every split\n",
    "max_features = ['auto', 'sqrt','log2']\n",
    "# Maximum number of levels in tree\n",
    "max_depth = [int(x) for x in np.linspace(10, 1000,10)]\n",
    "# Minimum number of samples required to split a node\n",
    "min_samples_split = [1,3,4,5,7,9]\n",
    "# Minimum number of samples required at each leaf node\n",
    "min_samples_leaf = [1, 2, 4,6,8]\n",
    "\n",
    "random_grid = {\n",
    "    'n_estimators' : n_estimators,\n",
    "    'max_features' : max_features ,\n",
    "    'max_depth' : max_depth ,\n",
    "    'min_samples_split' : min_samples_split,\n",
    "    'min_samples_leaf' : min_samples_leaf,\n",
    "    'criterion' : ['entropy','gini']\n",
    "}\n",
    "\n",
    "print(random_grid)"
   ]
  },
  {
   "cell_type": "code",
   "execution_count": 27,
   "metadata": {},
   "outputs": [
    {
     "name": "stdout",
     "output_type": "stream",
     "text": [
      "Fitting 3 folds for each of 100 candidates, totalling 300 fits\n"
     ]
    },
    {
     "name": "stderr",
     "output_type": "stream",
     "text": [
      "[Parallel(n_jobs=-1)]: Using backend LokyBackend with 8 concurrent workers.\n",
      "[Parallel(n_jobs=-1)]: Done  25 tasks      | elapsed:   18.7s\n",
      "[Parallel(n_jobs=-1)]: Done 146 tasks      | elapsed:  1.5min\n",
      "[Parallel(n_jobs=-1)]: Done 300 out of 300 | elapsed:  3.1min finished\n"
     ]
    },
    {
     "data": {
      "text/plain": [
       "RandomizedSearchCV(cv=3, estimator=RandomForestClassifier(), n_iter=100,\n",
       "                   n_jobs=-1,\n",
       "                   param_distributions={'criterion': ['entropy', 'gini'],\n",
       "                                        'max_depth': [10, 120, 230, 340, 450,\n",
       "                                                      560, 670, 780, 890,\n",
       "                                                      1000],\n",
       "                                        'max_features': ['auto', 'sqrt',\n",
       "                                                         'log2'],\n",
       "                                        'min_samples_leaf': [1, 2, 4, 6, 8],\n",
       "                                        'min_samples_split': [1, 3, 4, 5, 7, 9],\n",
       "                                        'n_estimators': [200, 400, 600, 800,\n",
       "                                                         1000, 1200, 1400, 1600,\n",
       "                                                         1800, 2000]},\n",
       "                   random_state=100, verbose=2)"
      ]
     },
     "execution_count": 27,
     "metadata": {},
     "output_type": "execute_result"
    }
   ],
   "source": [
    "rf=RandomForestClassifier()\n",
    "rf_randomcv=RandomizedSearchCV(estimator= rf, param_distributions= random_grid,n_iter=100,cv=3,verbose=2,\n",
    "                               random_state=100,n_jobs=-1 )\n",
    "rf_randomcv.fit(X_train,y_train)"
   ]
  },
  {
   "cell_type": "code",
   "execution_count": 29,
   "metadata": {},
   "outputs": [
    {
     "data": {
      "text/plain": [
       "0.7769249163079867"
      ]
     },
     "execution_count": 29,
     "metadata": {},
     "output_type": "execute_result"
    }
   ],
   "source": [
    "rf_randomcv.best_score_"
   ]
  },
  {
   "cell_type": "code",
   "execution_count": 30,
   "metadata": {},
   "outputs": [],
   "source": [
    "best_random_grid=rf_randomcv.best_estimator_\n"
   ]
  },
  {
   "cell_type": "code",
   "execution_count": 32,
   "metadata": {},
   "outputs": [
    {
     "name": "stdout",
     "output_type": "stream",
     "text": [
      "[[87 12]\n",
      " [24 31]]\n",
      "\n",
      "Accuracy Score 0.7662337662337663\n",
      "\n",
      "Classification report:               precision    recall  f1-score   support\n",
      "\n",
      "           0       0.78      0.88      0.83        99\n",
      "           1       0.72      0.56      0.63        55\n",
      "\n",
      "    accuracy                           0.77       154\n",
      "   macro avg       0.75      0.72      0.73       154\n",
      "weighted avg       0.76      0.77      0.76       154\n",
      "\n"
     ]
    }
   ],
   "source": [
    "from sklearn.metrics import accuracy_score\n",
    "y_pred=best_random_grid.predict(X_test)\n",
    "print(confusion_matrix(y_test,y_pred))\n",
    "print()\n",
    "print(\"Accuracy Score {}\".format(accuracy_score(y_test,y_pred)))\n",
    "print()\n",
    "print(\"Classification report: {}\".format(classification_report(y_test,y_pred)))"
   ]
  },
  {
   "cell_type": "markdown",
   "metadata": {},
   "source": [
    "## GridSearch CV"
   ]
  },
  {
   "cell_type": "code",
   "execution_count": 33,
   "metadata": {},
   "outputs": [
    {
     "data": {
      "text/plain": [
       "{'n_estimators': 1000,\n",
       " 'min_samples_split': 7,\n",
       " 'min_samples_leaf': 2,\n",
       " 'max_features': 'auto',\n",
       " 'max_depth': 890,\n",
       " 'criterion': 'gini'}"
      ]
     },
     "execution_count": 33,
     "metadata": {},
     "output_type": "execute_result"
    }
   ],
   "source": [
    "rf_randomcv.best_params_"
   ]
  },
  {
   "cell_type": "code",
   "execution_count": 35,
   "metadata": {},
   "outputs": [
    {
     "name": "stdout",
     "output_type": "stream",
     "text": [
      "{'criterion': ['gini'], 'max_depth': [890], 'max_features': ['auto'], 'min_samples_leaf': [2, 4, 6], 'min_samples_split': [5, 6, 7, 8, 9], 'n_estimators': [500, 700, 1000, 1200, 1300]}\n"
     ]
    }
   ],
   "source": [
    "from sklearn.model_selection import GridSearchCV\n",
    "\n",
    "param_grid = {\n",
    "    'criterion': [rf_randomcv.best_params_['criterion']],\n",
    "    'max_depth': [rf_randomcv.best_params_['max_depth']],\n",
    "    'max_features': [rf_randomcv.best_params_['max_features']],\n",
    "    'min_samples_leaf': [rf_randomcv.best_params_['min_samples_leaf'], \n",
    "                         rf_randomcv.best_params_['min_samples_leaf']+2, \n",
    "                         rf_randomcv.best_params_['min_samples_leaf'] + 4],\n",
    "    'min_samples_split': [rf_randomcv.best_params_['min_samples_split'] - 2,\n",
    "                          rf_randomcv.best_params_['min_samples_split'] - 1,\n",
    "                          rf_randomcv.best_params_['min_samples_split'], \n",
    "                          rf_randomcv.best_params_['min_samples_split'] +1,\n",
    "                          rf_randomcv.best_params_['min_samples_split'] + 2],\n",
    "    'n_estimators': [rf_randomcv.best_params_['n_estimators'] - 500, rf_randomcv.best_params_['n_estimators'] - 300, \n",
    "                     rf_randomcv.best_params_['n_estimators'], \n",
    "                     rf_randomcv.best_params_['n_estimators'] + 200, rf_randomcv.best_params_['n_estimators'] + 300]\n",
    "}\n",
    "\n",
    "print(param_grid)"
   ]
  },
  {
   "cell_type": "code",
   "execution_count": 36,
   "metadata": {},
   "outputs": [
    {
     "name": "stdout",
     "output_type": "stream",
     "text": [
      "Fitting 10 folds for each of 75 candidates, totalling 750 fits\n"
     ]
    },
    {
     "name": "stderr",
     "output_type": "stream",
     "text": [
      "[Parallel(n_jobs=-1)]: Using backend LokyBackend with 8 concurrent workers.\n",
      "[Parallel(n_jobs=-1)]: Done  25 tasks      | elapsed:   12.1s\n",
      "[Parallel(n_jobs=-1)]: Done 146 tasks      | elapsed:  1.3min\n",
      "[Parallel(n_jobs=-1)]: Done 349 tasks      | elapsed:  3.3min\n",
      "[Parallel(n_jobs=-1)]: Done 632 tasks      | elapsed:  5.9min\n",
      "[Parallel(n_jobs=-1)]: Done 750 out of 750 | elapsed:  7.0min finished\n"
     ]
    },
    {
     "data": {
      "text/plain": [
       "GridSearchCV(cv=10, estimator=RandomForestClassifier(), n_jobs=-1,\n",
       "             param_grid={'criterion': ['gini'], 'max_depth': [890],\n",
       "                         'max_features': ['auto'],\n",
       "                         'min_samples_leaf': [2, 4, 6],\n",
       "                         'min_samples_split': [5, 6, 7, 8, 9],\n",
       "                         'n_estimators': [500, 700, 1000, 1200, 1300]},\n",
       "             verbose=2)"
      ]
     },
     "execution_count": 36,
     "metadata": {},
     "output_type": "execute_result"
    }
   ],
   "source": [
    "#### Fit the grid_search to the data\n",
    "rf=RandomForestClassifier()\n",
    "grid_search=GridSearchCV(estimator=rf,param_grid=param_grid,cv=10,n_jobs=-1,verbose=2)\n",
    "grid_search.fit(X_train,y_train)"
   ]
  },
  {
   "cell_type": "code",
   "execution_count": 37,
   "metadata": {},
   "outputs": [
    {
     "data": {
      "text/plain": [
       "RandomForestClassifier(max_depth=890, min_samples_leaf=6, min_samples_split=6,\n",
       "                       n_estimators=1300)"
      ]
     },
     "execution_count": 37,
     "metadata": {},
     "output_type": "execute_result"
    }
   ],
   "source": [
    "grid_search.best_estimator_"
   ]
  },
  {
   "cell_type": "code",
   "execution_count": 38,
   "metadata": {},
   "outputs": [
    {
     "data": {
      "text/plain": [
       "RandomForestClassifier(max_depth=890, min_samples_leaf=6, min_samples_split=6,\n",
       "                       n_estimators=1300)"
      ]
     },
     "execution_count": 38,
     "metadata": {},
     "output_type": "execute_result"
    }
   ],
   "source": [
    "best_grid=grid_search.best_estimator_\n",
    "best_grid"
   ]
  },
  {
   "cell_type": "code",
   "execution_count": 39,
   "metadata": {},
   "outputs": [
    {
     "name": "stdout",
     "output_type": "stream",
     "text": [
      "[[87 12]\n",
      " [27 28]]\n",
      "\n",
      "Accuracy Score 0.7467532467532467\n",
      "\n",
      "Classification report:               precision    recall  f1-score   support\n",
      "\n",
      "           0       0.76      0.88      0.82        99\n",
      "           1       0.70      0.51      0.59        55\n",
      "\n",
      "    accuracy                           0.75       154\n",
      "   macro avg       0.73      0.69      0.70       154\n",
      "weighted avg       0.74      0.75      0.74       154\n",
      "\n"
     ]
    }
   ],
   "source": [
    "y_pred=best_grid.predict(X_test)\n",
    "print(confusion_matrix(y_test,y_pred))\n",
    "print()\n",
    "print(\"Accuracy Score {}\".format(accuracy_score(y_test,y_pred)))\n",
    "print()\n",
    "print(\"Classification report: {}\".format(classification_report(y_test,y_pred)))"
   ]
  },
  {
   "cell_type": "markdown",
   "metadata": {},
   "source": [
    "# Automated Hyperparameter Tuning\n",
    "Automated Hyperparameter Tuning can be done by using techniques such as\n",
    "\n",
    "i) Bayesian Optimization               ||\n",
    "ii) Gradient Descent                     ||\n",
    "iii) Evolutionary Algorithms"
   ]
  },
  {
   "cell_type": "markdown",
   "metadata": {},
   "source": [
    "# Bayesian Optimization\n",
    "Bayesian optimization uses probability to find the minimum of a function. The final aim is to find the input value to a function which can gives us the lowest possible output value.It usually performs better than random,grid and manual search providing better performance in the testing phase and reduced optimization time. In Hyperopt, Bayesian Optimization can be implemented giving 3 three main parameters to the function fmin.\n",
    "\n",
    "1) Objective Function = defines the loss function to minimize.\n",
    "2) Domain Space = defines the range of input values to test (in Bayesian Optimization this space creates a probability distribution for each of the used Hyperparameters).\n",
    "3) Optimization Algorithm = defines the search algorithm to use to select the best input values to use in each new iteration."
   ]
  },
  {
   "cell_type": "code",
   "execution_count": 41,
   "metadata": {},
   "outputs": [],
   "source": [
    "from hyperopt import hp,fmin,tpe,STATUS_OK,Trials"
   ]
  },
  {
   "cell_type": "code",
   "execution_count": 42,
   "metadata": {},
   "outputs": [],
   "source": [
    "space = {'criterion': hp.choice('criterion', ['entropy', 'gini']),\n",
    "        'max_depth': hp.quniform('max_depth', 10, 1200, 10),\n",
    "        'max_features': hp.choice('max_features', ['auto', 'sqrt','log2', None]),\n",
    "        'min_samples_leaf': hp.uniform('min_samples_leaf', 0, 0.5),\n",
    "        'min_samples_split' : hp.uniform ('min_samples_split', 0, 1),\n",
    "        'n_estimators' : hp.choice('n_estimators', [10, 50, 300, 750, 1200,1300,1500])\n",
    "    }"
   ]
  },
  {
   "cell_type": "code",
   "execution_count": 43,
   "metadata": {},
   "outputs": [
    {
     "data": {
      "text/plain": [
       "{'criterion': <hyperopt.pyll.base.Apply at 0x1f5362398d0>,\n",
       " 'max_depth': <hyperopt.pyll.base.Apply at 0x1f536239780>,\n",
       " 'max_features': <hyperopt.pyll.base.Apply at 0x1f536239668>,\n",
       " 'min_samples_leaf': <hyperopt.pyll.base.Apply at 0x1f5362390b8>,\n",
       " 'min_samples_split': <hyperopt.pyll.base.Apply at 0x1f536239048>,\n",
       " 'n_estimators': <hyperopt.pyll.base.Apply at 0x1f536249128>}"
      ]
     },
     "execution_count": 43,
     "metadata": {},
     "output_type": "execute_result"
    }
   ],
   "source": [
    "space\n"
   ]
  },
  {
   "cell_type": "code",
   "execution_count": 44,
   "metadata": {},
   "outputs": [],
   "source": [
    "def objective(space):\n",
    "    model = RandomForestClassifier(criterion = space['criterion'], max_depth = space['max_depth'],\n",
    "                                 max_features = space['max_features'],\n",
    "                                 min_samples_leaf = space['min_samples_leaf'],\n",
    "                                 min_samples_split = space['min_samples_split'],\n",
    "                                 n_estimators = space['n_estimators'], \n",
    "                                 )\n",
    "    \n",
    "    accuracy = cross_val_score(model, X_train, y_train, cv = 5).mean()\n",
    "\n",
    "    # We aim to maximize accuracy, therefore we return it as a negative value\n",
    "    return {'loss': -accuracy, 'status': STATUS_OK }"
   ]
  },
  {
   "cell_type": "code",
   "execution_count": 45,
   "metadata": {},
   "outputs": [
    {
     "name": "stdout",
     "output_type": "stream",
     "text": [
      "100%|██████████| 80/80 [13:38<00:00, 10.24s/trial, best loss: -0.7736771957883514]\n"
     ]
    },
    {
     "data": {
      "text/plain": [
       "{'criterion': 0,\n",
       " 'max_depth': 900.0,\n",
       " 'max_features': 3,\n",
       " 'min_samples_leaf': 0.06631012438389859,\n",
       " 'min_samples_split': 0.2355488991647348,\n",
       " 'n_estimators': 5}"
      ]
     },
     "execution_count": 45,
     "metadata": {},
     "output_type": "execute_result"
    }
   ],
   "source": [
    "from sklearn.model_selection import cross_val_score\n",
    "trials = Trials()\n",
    "best = fmin(fn= objective,\n",
    "            space= space,\n",
    "            algo= tpe.suggest,\n",
    "            max_evals = 80,\n",
    "            trials= trials)\n",
    "best"
   ]
  },
  {
   "cell_type": "code",
   "execution_count": 46,
   "metadata": {},
   "outputs": [
    {
     "name": "stdout",
     "output_type": "stream",
     "text": [
      "entropy\n",
      "None\n",
      "1300\n"
     ]
    }
   ],
   "source": [
    "crit = {0: 'entropy', 1: 'gini'}\n",
    "feat = {0: 'auto', 1: 'sqrt', 2: 'log2', 3: None}\n",
    "est = {0: 10, 1: 50, 2: 300, 3: 750, 4: 1200,5:1300,6:1500}\n",
    "\n",
    "\n",
    "print(crit[best['criterion']])\n",
    "print(feat[best['max_features']])\n",
    "print(est[best['n_estimators']])"
   ]
  },
  {
   "cell_type": "code",
   "execution_count": 47,
   "metadata": {},
   "outputs": [
    {
     "name": "stdout",
     "output_type": "stream",
     "text": [
      "[[89 10]\n",
      " [28 27]]\n",
      "0.7532467532467533\n",
      "              precision    recall  f1-score   support\n",
      "\n",
      "           0       0.76      0.90      0.82        99\n",
      "           1       0.73      0.49      0.59        55\n",
      "\n",
      "    accuracy                           0.75       154\n",
      "   macro avg       0.75      0.69      0.71       154\n",
      "weighted avg       0.75      0.75      0.74       154\n",
      "\n"
     ]
    }
   ],
   "source": [
    "\n",
    "trainedforest = RandomForestClassifier(criterion = crit[best['criterion']], max_depth = best['max_depth'], \n",
    "                                       max_features = feat[best['max_features']], \n",
    "                                       min_samples_leaf = best['min_samples_leaf'], \n",
    "                                       min_samples_split = best['min_samples_split'], \n",
    "                                       n_estimators = est[best['n_estimators']]).fit(X_train,y_train)\n",
    "predictionforest = trainedforest.predict(X_test)\n",
    "print(confusion_matrix(y_test,predictionforest))\n",
    "print(accuracy_score(y_test,predictionforest))\n",
    "print(classification_report(y_test,predictionforest))\n",
    "acc5 = accuracy_score(y_test,predictionforest)"
   ]
  },
  {
   "cell_type": "markdown",
   "metadata": {},
   "source": [
    "# Genetic Algorithms\n",
    "Genetic Algorithms tries to apply natural selection mechanisms to Machine Learning contexts.\n",
    "\n",
    "Let's imagine we create a population of N Machine Learning models with some predifined Hyperparameters. We can then calculate the accuracy of each model and decide to keep just half of the models (the ones that performs best). We can now generate some offsprings having similar Hyperparameters to the ones of the best models so that go get again a population of N models. At this point we can again caltulate the accuracy of each model and repeate the cycle for a defined number of generations. In this way, just the best models will survive at the end of the process."
   ]
  },
  {
   "cell_type": "code",
   "execution_count": 48,
   "metadata": {},
   "outputs": [
    {
     "name": "stdout",
     "output_type": "stream",
     "text": [
      "{'n_estimators': [200, 400, 600, 800, 1000, 1200, 1400, 1600, 1800, 2000], 'max_features': ['auto', 'sqrt', 'log2'], 'max_depth': [10, 120, 230, 340, 450, 560, 670, 780, 890, 1000], 'min_samples_split': [2, 5, 10, 14], 'min_samples_leaf': [1, 2, 4, 6, 8], 'criterion': ['entropy', 'gini']}\n"
     ]
    }
   ],
   "source": [
    "import numpy as np\n",
    "from sklearn.model_selection import RandomizedSearchCV\n",
    "# Number of trees in random forest\n",
    "n_estimators = [int(x) for x in np.linspace(start = 200, stop = 2000, num = 10)]\n",
    "# Number of features to consider at every split\n",
    "max_features = ['auto', 'sqrt','log2']\n",
    "# Maximum number of levels in tree\n",
    "max_depth = [int(x) for x in np.linspace(10, 1000,10)]\n",
    "# Minimum number of samples required to split a node\n",
    "min_samples_split = [2, 5, 10,14]\n",
    "# Minimum number of samples required at each leaf node\n",
    "min_samples_leaf = [1, 2, 4,6,8]\n",
    "# Create the random grid\n",
    "param = {'n_estimators': n_estimators,\n",
    "               'max_features': max_features,\n",
    "               'max_depth': max_depth,\n",
    "               'min_samples_split': min_samples_split,\n",
    "               'min_samples_leaf': min_samples_leaf,\n",
    "              'criterion':['entropy','gini']}\n",
    "print(param)"
   ]
  },
  {
   "cell_type": "code",
   "execution_count": 49,
   "metadata": {
    "scrolled": true
   },
   "outputs": [
    {
     "data": {
      "application/vnd.jupyter.widget-view+json": {
       "model_id": "",
       "version_major": 2,
       "version_minor": 0
      },
      "text/plain": [
       "HBox(children=(FloatProgress(value=0.0, description='Optimization Progress', max=84.0, style=ProgressStyle(des…"
      ]
     },
     "metadata": {},
     "output_type": "display_data"
    },
    {
     "name": "stdout",
     "output_type": "stream",
     "text": [
      "\n",
      "Generation 1 - Current best internal CV score: 0.7769501740089975\n",
      "\n",
      "Generation 2 - Current best internal CV score: 0.7818096935743994\n",
      "\n",
      "Generation 3 - Current best internal CV score: 0.7818096935743994\n",
      "\n",
      "Generation 4 - Current best internal CV score: 0.7818096935743994\n",
      "\n",
      "Generation 5 - Current best internal CV score: 0.7818096935743994\n",
      "\n",
      "Best pipeline: RandomForestClassifier(input_matrix, criterion=gini, max_depth=230, max_features=log2, min_samples_leaf=8, min_samples_split=14, n_estimators=2000)\n"
     ]
    },
    {
     "data": {
      "text/plain": [
       "TPOTClassifier(config_dict={'sklearn.ensemble.RandomForestClassifier': {'criterion': ['entropy',\n",
       "                                                                                      'gini'],\n",
       "                                                                        'max_depth': [10,\n",
       "                                                                                      120,\n",
       "                                                                                      230,\n",
       "                                                                                      340,\n",
       "                                                                                      450,\n",
       "                                                                                      560,\n",
       "                                                                                      670,\n",
       "                                                                                      780,\n",
       "                                                                                      890,\n",
       "                                                                                      1000],\n",
       "                                                                        'max_features': ['auto',\n",
       "                                                                                         'sqrt',\n",
       "                                                                                         'log2'],\n",
       "                                                                        'min_samples_leaf': [1,\n",
       "                                                                                             2,\n",
       "                                                                                             4,\n",
       "                                                                                             6,\n",
       "                                                                                             8],\n",
       "                                                                        'min_samples_split': [2,\n",
       "                                                                                              5,\n",
       "                                                                                              10,\n",
       "                                                                                              14],\n",
       "                                                                        'n_estimators': [200,\n",
       "                                                                                         400,\n",
       "                                                                                         600,\n",
       "                                                                                         800,\n",
       "                                                                                         1000,\n",
       "                                                                                         1200,\n",
       "                                                                                         1400,\n",
       "                                                                                         1600,\n",
       "                                                                                         1800,\n",
       "                                                                                         2000]}},\n",
       "               cv=4, early_stop=12, generations=5, offspring_size=12,\n",
       "               population_size=24, scoring='accuracy', verbosity=2)"
      ]
     },
     "execution_count": 49,
     "metadata": {},
     "output_type": "execute_result"
    }
   ],
   "source": [
    "from tpot import TPOTClassifier\n",
    "\n",
    "\n",
    "tpot_classifier = TPOTClassifier(generations= 5, population_size= 24, offspring_size= 12,\n",
    "                                 verbosity= 2, early_stop= 12,\n",
    "                                 config_dict={'sklearn.ensemble.RandomForestClassifier': param}, \n",
    "                                 cv = 4, scoring = 'accuracy')\n",
    "tpot_classifier.fit(X_train,y_train)"
   ]
  },
  {
   "cell_type": "code",
   "execution_count": 51,
   "metadata": {},
   "outputs": [
    {
     "name": "stdout",
     "output_type": "stream",
     "text": [
      "0.7467532467532467\n"
     ]
    }
   ],
   "source": [
    "accuracy = tpot_classifier.score(X_test, y_test)\n",
    "print(accuracy)"
   ]
  },
  {
   "cell_type": "markdown",
   "metadata": {},
   "source": [
    "# Optimize hyperparameters of the model using Optuna\n",
    "The hyperparameters of the above algorithm are n_estimators and max_depth for which we can try different values to see if the model accuracy can be improved. The objective function is modified to accept a trial object. This trial has several methods for sampling hyperparameters. We create a study to run the hyperparameter optimization and finally read the best hyperparameters."
   ]
  },
  {
   "cell_type": "code",
   "execution_count": 52,
   "metadata": {},
   "outputs": [],
   "source": [
    "import optuna\n",
    "import sklearn.svm\n",
    "def objective(trial):\n",
    "\n",
    "    classifier = trial.suggest_categorical('classifier', ['RandomForest', 'SVC'])\n",
    "    \n",
    "    if classifier == 'RandomForest':\n",
    "        n_estimators = trial.suggest_int('n_estimators', 200, 2000,10)\n",
    "        max_depth = int(trial.suggest_float('max_depth', 10, 100, log=True))\n",
    "\n",
    "        clf = sklearn.ensemble.RandomForestClassifier(\n",
    "            n_estimators=n_estimators, max_depth=max_depth)\n",
    "    else:\n",
    "        c = trial.suggest_float('svc_c', 1e-10, 1e10, log=True)\n",
    "        \n",
    "        clf = sklearn.svm.SVC(C=c, gamma='auto')\n",
    "\n",
    "    return sklearn.model_selection.cross_val_score(\n",
    "        clf,X_train,y_train, n_jobs=-1, cv=3).mean()"
   ]
  },
  {
   "cell_type": "code",
   "execution_count": 53,
   "metadata": {},
   "outputs": [
    {
     "name": "stderr",
     "output_type": "stream",
     "text": [
      "\u001b[32m[I 2021-01-26 12:11:09,894]\u001b[0m A new study created in memory with name: no-name-62f3dbd3-3c25-4c70-ab64-52d03c49f039\u001b[0m\n",
      "\u001b[32m[I 2021-01-26 12:11:34,853]\u001b[0m Trial 0 finished with value: 0.7736649131197195 and parameters: {'classifier': 'RandomForest', 'n_estimators': 470, 'max_depth': 23.923494668706127}. Best is trial 0 with value: 0.7736649131197195.\u001b[0m\n",
      "\u001b[32m[I 2021-01-26 12:11:36,058]\u001b[0m Trial 1 finished with value: 0.6530926191614858 and parameters: {'classifier': 'SVC', 'svc_c': 0.03061584728961105}. Best is trial 0 with value: 0.7736649131197195.\u001b[0m\n",
      "\u001b[32m[I 2021-01-26 12:11:36,993]\u001b[0m Trial 2 finished with value: 0.6530926191614858 and parameters: {'classifier': 'SVC', 'svc_c': 0.015753216001108145}. Best is trial 0 with value: 0.7736649131197195.\u001b[0m\n",
      "\u001b[32m[I 2021-01-26 12:11:37,042]\u001b[0m Trial 3 finished with value: 0.6530926191614858 and parameters: {'classifier': 'SVC', 'svc_c': 9.023103589809458e-05}. Best is trial 0 with value: 0.7736649131197195.\u001b[0m\n",
      "\u001b[32m[I 2021-01-26 12:11:40,034]\u001b[0m Trial 4 finished with value: 0.772030926191615 and parameters: {'classifier': 'RandomForest', 'n_estimators': 1320, 'max_depth': 20.895426259920978}. Best is trial 0 with value: 0.7736649131197195.\u001b[0m\n",
      "\u001b[32m[I 2021-01-26 12:11:40,093]\u001b[0m Trial 5 finished with value: 0.6530926191614858 and parameters: {'classifier': 'SVC', 'svc_c': 1.365849896111409}. Best is trial 0 with value: 0.7736649131197195.\u001b[0m\n",
      "\u001b[32m[I 2021-01-26 12:11:40,126]\u001b[0m Trial 6 finished with value: 0.6530926191614858 and parameters: {'classifier': 'SVC', 'svc_c': 1.944208920399779e-07}. Best is trial 0 with value: 0.7736649131197195.\u001b[0m\n",
      "\u001b[32m[I 2021-01-26 12:11:40,161]\u001b[0m Trial 7 finished with value: 0.6530926191614858 and parameters: {'classifier': 'SVC', 'svc_c': 1.067587218987096e-06}. Best is trial 0 with value: 0.7736649131197195.\u001b[0m\n",
      "\u001b[32m[I 2021-01-26 12:11:40,195]\u001b[0m Trial 8 finished with value: 0.6530926191614858 and parameters: {'classifier': 'SVC', 'svc_c': 7.112569778727513e-06}. Best is trial 0 with value: 0.7736649131197195.\u001b[0m\n",
      "\u001b[32m[I 2021-01-26 12:11:40,246]\u001b[0m Trial 9 finished with value: 0.6530926191614858 and parameters: {'classifier': 'SVC', 'svc_c': 1755.0494717585482}. Best is trial 0 with value: 0.7736649131197195.\u001b[0m\n",
      "\u001b[32m[I 2021-01-26 12:11:41,795]\u001b[0m Trial 10 finished with value: 0.7752749880439981 and parameters: {'classifier': 'RandomForest', 'n_estimators': 260, 'max_depth': 65.4706564674935}. Best is trial 10 with value: 0.7752749880439981.\u001b[0m\n",
      "\u001b[32m[I 2021-01-26 12:11:42,365]\u001b[0m Trial 11 finished with value: 0.7752909293798821 and parameters: {'classifier': 'RandomForest', 'n_estimators': 260, 'max_depth': 85.21791930807795}. Best is trial 11 with value: 0.7752909293798821.\u001b[0m\n",
      "\u001b[32m[I 2021-01-26 12:11:43,148]\u001b[0m Trial 12 finished with value: 0.7622509166268133 and parameters: {'classifier': 'RandomForest', 'n_estimators': 340, 'max_depth': 98.87760301329301}. Best is trial 11 with value: 0.7752909293798821.\u001b[0m\n",
      "\u001b[32m[I 2021-01-26 12:11:43,629]\u001b[0m Trial 13 finished with value: 0.7671289654073011 and parameters: {'classifier': 'RandomForest', 'n_estimators': 200, 'max_depth': 89.99112917013026}. Best is trial 11 with value: 0.7752909293798821.\u001b[0m\n",
      "\u001b[32m[I 2021-01-26 12:11:45,621]\u001b[0m Trial 14 finished with value: 0.7752989000478241 and parameters: {'classifier': 'RandomForest', 'n_estimators': 780, 'max_depth': 52.86194835774545}. Best is trial 14 with value: 0.7752989000478241.\u001b[0m\n",
      "\u001b[32m[I 2021-01-26 12:11:47,421]\u001b[0m Trial 15 finished with value: 0.772030926191615 and parameters: {'classifier': 'RandomForest', 'n_estimators': 850, 'max_depth': 45.2755557443023}. Best is trial 14 with value: 0.7752989000478241.\u001b[0m\n",
      "\u001b[32m[I 2021-01-26 12:11:51,159]\u001b[0m Trial 16 finished with value: 0.7704208512673363 and parameters: {'classifier': 'RandomForest', 'n_estimators': 1760, 'max_depth': 42.16509845538114}. Best is trial 14 with value: 0.7752989000478241.\u001b[0m\n",
      "\u001b[32m[I 2021-01-26 12:11:53,031]\u001b[0m Trial 17 finished with value: 0.7752909293798821 and parameters: {'classifier': 'RandomForest', 'n_estimators': 840, 'max_depth': 10.777376645922836}. Best is trial 14 with value: 0.7752989000478241.\u001b[0m\n",
      "\u001b[32m[I 2021-01-26 12:11:54,676]\u001b[0m Trial 18 finished with value: 0.7687709230033476 and parameters: {'classifier': 'RandomForest', 'n_estimators': 820, 'max_depth': 11.447537217350897}. Best is trial 14 with value: 0.7752989000478241.\u001b[0m\n",
      "\u001b[32m[I 2021-01-26 12:11:57,688]\u001b[0m Trial 19 finished with value: 0.7655109198150805 and parameters: {'classifier': 'RandomForest', 'n_estimators': 1280, 'max_depth': 65.40841843812483}. Best is trial 14 with value: 0.7752989000478241.\u001b[0m\n",
      "\u001b[32m[I 2021-01-26 12:11:59,703]\u001b[0m Trial 20 finished with value: 0.7769169456400448 and parameters: {'classifier': 'RandomForest', 'n_estimators': 790, 'max_depth': 13.03523664847262}. Best is trial 20 with value: 0.7769169456400448.\u001b[0m\n",
      "\u001b[32m[I 2021-01-26 12:12:02,200]\u001b[0m Trial 21 finished with value: 0.7687709230033476 and parameters: {'classifier': 'RandomForest', 'n_estimators': 820, 'max_depth': 10.23209496951507}. Best is trial 20 with value: 0.7769169456400448.\u001b[0m\n",
      "\u001b[32m[I 2021-01-26 12:12:03,755]\u001b[0m Trial 22 finished with value: 0.7622588872947552 and parameters: {'classifier': 'RandomForest', 'n_estimators': 620, 'max_depth': 14.884159559447601}. Best is trial 20 with value: 0.7769169456400448.\u001b[0m\n",
      "\u001b[32m[I 2021-01-26 12:12:07,141]\u001b[0m Trial 23 finished with value: 0.7687788936712897 and parameters: {'classifier': 'RandomForest', 'n_estimators': 1170, 'max_depth': 68.30282367322621}. Best is trial 20 with value: 0.7769169456400448.\u001b[0m\n",
      "\u001b[32m[I 2021-01-26 12:12:08,781]\u001b[0m Trial 24 finished with value: 0.7622509166268133 and parameters: {'classifier': 'RandomForest', 'n_estimators': 620, 'max_depth': 41.64472726090142}. Best is trial 20 with value: 0.7769169456400448.\u001b[0m\n",
      "\u001b[32m[I 2021-01-26 12:12:11,154]\u001b[0m Trial 25 finished with value: 0.767144906743185 and parameters: {'classifier': 'RandomForest', 'n_estimators': 1000, 'max_depth': 14.949329896159352}. Best is trial 20 with value: 0.7769169456400448.\u001b[0m\n",
      "\u001b[32m[I 2021-01-26 12:12:13,006]\u001b[0m Trial 26 finished with value: 0.7703969392635103 and parameters: {'classifier': 'RandomForest', 'n_estimators': 620, 'max_depth': 13.50236634582877}. Best is trial 20 with value: 0.7769169456400448.\u001b[0m\n",
      "\u001b[32m[I 2021-01-26 12:12:15,701]\u001b[0m Trial 27 finished with value: 0.7687788936712897 and parameters: {'classifier': 'RandomForest', 'n_estimators': 990, 'max_depth': 20.70729223606878}. Best is trial 20 with value: 0.7769169456400448.\u001b[0m\n",
      "\u001b[32m[I 2021-01-26 12:12:17,914]\u001b[0m Trial 28 finished with value: 0.7769249163079867 and parameters: {'classifier': 'RandomForest', 'n_estimators': 780, 'max_depth': 29.138859329852195}. Best is trial 28 with value: 0.7769249163079867.\u001b[0m\n",
      "\u001b[32m[I 2021-01-26 12:12:21,525]\u001b[0m Trial 29 finished with value: 0.7704049099314524 and parameters: {'classifier': 'RandomForest', 'n_estimators': 1460, 'max_depth': 32.044631765161895}. Best is trial 28 with value: 0.7769249163079867.\u001b[0m\n",
      "\u001b[32m[I 2021-01-26 12:12:22,604]\u001b[0m Trial 30 finished with value: 0.772038896859557 and parameters: {'classifier': 'RandomForest', 'n_estimators': 500, 'max_depth': 32.28022990040559}. Best is trial 28 with value: 0.7769249163079867.\u001b[0m\n",
      "\u001b[32m[I 2021-01-26 12:12:25,104]\u001b[0m Trial 31 finished with value: 0.7687788936712897 and parameters: {'classifier': 'RandomForest', 'n_estimators': 780, 'max_depth': 10.262635855039678}. Best is trial 28 with value: 0.7769249163079867.\u001b[0m\n",
      "\u001b[32m[I 2021-01-26 12:12:27,368]\u001b[0m Trial 32 finished with value: 0.7671608480790691 and parameters: {'classifier': 'RandomForest', 'n_estimators': 960, 'max_depth': 49.99219113309174}. Best is trial 28 with value: 0.7769249163079867.\u001b[0m\n",
      "\u001b[32m[I 2021-01-26 12:12:29,352]\u001b[0m Trial 33 finished with value: 0.7801928901641958 and parameters: {'classifier': 'RandomForest', 'n_estimators': 730, 'max_depth': 25.90196922553536}. Best is trial 33 with value: 0.7801928901641958.\u001b[0m\n",
      "\u001b[32m[I 2021-01-26 12:12:31,022]\u001b[0m Trial 34 finished with value: 0.772030926191615 and parameters: {'classifier': 'RandomForest', 'n_estimators': 710, 'max_depth': 26.685677424882442}. Best is trial 33 with value: 0.7801928901641958.\u001b[0m\n"
     ]
    },
    {
     "name": "stderr",
     "output_type": "stream",
     "text": [
      "\u001b[32m[I 2021-01-26 12:12:32,428]\u001b[0m Trial 35 finished with value: 0.767136936075243 and parameters: {'classifier': 'RandomForest', 'n_estimators': 530, 'max_depth': 17.94149607255196}. Best is trial 33 with value: 0.7801928901641958.\u001b[0m\n",
      "\u001b[32m[I 2021-01-26 12:12:35,441]\u001b[0m Trial 36 finished with value: 0.772038896859557 and parameters: {'classifier': 'RandomForest', 'n_estimators': 1100, 'max_depth': 26.301336746293043}. Best is trial 33 with value: 0.7801928901641958.\u001b[0m\n",
      "\u001b[32m[I 2021-01-26 12:12:37,613]\u001b[0m Trial 37 finished with value: 0.7720229555236728 and parameters: {'classifier': 'RandomForest', 'n_estimators': 940, 'max_depth': 36.06563119148975}. Best is trial 33 with value: 0.7801928901641958.\u001b[0m\n",
      "\u001b[32m[I 2021-01-26 12:12:38,643]\u001b[0m Trial 38 finished with value: 0.7622748286306393 and parameters: {'classifier': 'RandomForest', 'n_estimators': 390, 'max_depth': 23.625918770768557}. Best is trial 33 with value: 0.7801928901641958.\u001b[0m\n",
      "\u001b[32m[I 2021-01-26 12:12:40,564]\u001b[0m Trial 39 finished with value: 0.7671289654073011 and parameters: {'classifier': 'RandomForest', 'n_estimators': 670, 'max_depth': 51.19770499863875}. Best is trial 33 with value: 0.7801928901641958.\u001b[0m\n",
      "\u001b[32m[I 2021-01-26 12:12:40,613]\u001b[0m Trial 40 finished with value: 0.6530926191614858 and parameters: {'classifier': 'SVC', 'svc_c': 147425396.2615427}. Best is trial 33 with value: 0.7801928901641958.\u001b[0m\n",
      "\u001b[32m[I 2021-01-26 12:12:42,354]\u001b[0m Trial 41 finished with value: 0.7687788936712897 and parameters: {'classifier': 'RandomForest', 'n_estimators': 730, 'max_depth': 11.643320782226267}. Best is trial 33 with value: 0.7801928901641958.\u001b[0m\n",
      "\u001b[32m[I 2021-01-26 12:12:44,489]\u001b[0m Trial 42 finished with value: 0.7687709230033476 and parameters: {'classifier': 'RandomForest', 'n_estimators': 890, 'max_depth': 17.762750096767036}. Best is trial 33 with value: 0.7801928901641958.\u001b[0m\n",
      "\u001b[32m[I 2021-01-26 12:12:45,928]\u001b[0m Trial 43 finished with value: 0.7687709230033476 and parameters: {'classifier': 'RandomForest', 'n_estimators': 540, 'max_depth': 28.98872632868797}. Best is trial 33 with value: 0.7801928901641958.\u001b[0m\n",
      "\u001b[32m[I 2021-01-26 12:12:48,992]\u001b[0m Trial 44 finished with value: 0.7720229555236728 and parameters: {'classifier': 'RandomForest', 'n_estimators': 1130, 'max_depth': 35.505033980425736}. Best is trial 33 with value: 0.7801928901641958.\u001b[0m\n",
      "\u001b[32m[I 2021-01-26 12:12:50,870]\u001b[0m Trial 45 finished with value: 0.772030926191615 and parameters: {'classifier': 'RandomForest', 'n_estimators': 740, 'max_depth': 19.7834030360626}. Best is trial 33 with value: 0.7801928901641958.\u001b[0m\n",
      "\u001b[32m[I 2021-01-26 12:12:50,916]\u001b[0m Trial 46 finished with value: 0.6530926191614858 and parameters: {'classifier': 'SVC', 'svc_c': 2.586285628229209e-10}. Best is trial 33 with value: 0.7801928901641958.\u001b[0m\n",
      "\u001b[32m[I 2021-01-26 12:12:51,897]\u001b[0m Trial 47 finished with value: 0.767144906743185 and parameters: {'classifier': 'RandomForest', 'n_estimators': 410, 'max_depth': 12.36019959323868}. Best is trial 33 with value: 0.7801928901641958.\u001b[0m\n",
      "\u001b[32m[I 2021-01-26 12:12:53,969]\u001b[0m Trial 48 finished with value: 0.7671608480790691 and parameters: {'classifier': 'RandomForest', 'n_estimators': 850, 'max_depth': 24.23956710666015}. Best is trial 33 with value: 0.7801928901641958.\u001b[0m\n",
      "\u001b[32m[I 2021-01-26 12:12:56,856]\u001b[0m Trial 49 finished with value: 0.7687788936712897 and parameters: {'classifier': 'RandomForest', 'n_estimators': 1030, 'max_depth': 58.8558086580524}. Best is trial 33 with value: 0.7801928901641958.\u001b[0m\n",
      "\u001b[32m[I 2021-01-26 12:12:56,907]\u001b[0m Trial 50 finished with value: 0.6530926191614858 and parameters: {'classifier': 'SVC', 'svc_c': 1441963789.9519055}. Best is trial 33 with value: 0.7801928901641958.\u001b[0m\n",
      "\u001b[32m[I 2021-01-26 12:12:57,546]\u001b[0m Trial 51 finished with value: 0.7703969392635103 and parameters: {'classifier': 'RandomForest', 'n_estimators': 260, 'max_depth': 90.02729024787918}. Best is trial 33 with value: 0.7801928901641958.\u001b[0m\n",
      "\u001b[32m[I 2021-01-26 12:13:00,536]\u001b[0m Trial 52 finished with value: 0.7687788936712897 and parameters: {'classifier': 'RandomForest', 'n_estimators': 1230, 'max_depth': 77.77085129983499}. Best is trial 33 with value: 0.7801928901641958.\u001b[0m\n",
      "\u001b[32m[I 2021-01-26 12:13:04,059]\u001b[0m Trial 53 finished with value: 0.7687788936712897 and parameters: {'classifier': 'RandomForest', 'n_estimators': 1420, 'max_depth': 38.09017576527725}. Best is trial 33 with value: 0.7801928901641958.\u001b[0m\n",
      "\u001b[32m[I 2021-01-26 12:13:06,146]\u001b[0m Trial 54 finished with value: 0.7655109198150805 and parameters: {'classifier': 'RandomForest', 'n_estimators': 890, 'max_depth': 76.84776914539738}. Best is trial 33 with value: 0.7801928901641958.\u001b[0m\n",
      "\u001b[32m[I 2021-01-26 12:13:08,228]\u001b[0m Trial 55 finished with value: 0.772038896859557 and parameters: {'classifier': 'RandomForest', 'n_estimators': 790, 'max_depth': 52.31504797922263}. Best is trial 33 with value: 0.7801928901641958.\u001b[0m\n",
      "\u001b[32m[I 2021-01-26 12:13:09,671]\u001b[0m Trial 56 finished with value: 0.7655109198150805 and parameters: {'classifier': 'RandomForest', 'n_estimators': 630, 'max_depth': 96.36221118803145}. Best is trial 33 with value: 0.7801928901641958.\u001b[0m\n",
      "\u001b[32m[I 2021-01-26 12:13:12,654]\u001b[0m Trial 57 finished with value: 0.7736649131197195 and parameters: {'classifier': 'RandomForest', 'n_estimators': 1050, 'max_depth': 10.29334448396793}. Best is trial 33 with value: 0.7801928901641958.\u001b[0m\n",
      "\u001b[32m[I 2021-01-26 12:13:13,207]\u001b[0m Trial 58 finished with value: 0.7753068707157661 and parameters: {'classifier': 'RandomForest', 'n_estimators': 220, 'max_depth': 45.3371087807101}. Best is trial 33 with value: 0.7801928901641958.\u001b[0m\n",
      "\u001b[32m[I 2021-01-26 12:13:15,312]\u001b[0m Trial 59 finished with value: 0.7704049099314524 and parameters: {'classifier': 'RandomForest', 'n_estimators': 910, 'max_depth': 58.33541841684}. Best is trial 33 with value: 0.7801928901641958.\u001b[0m\n",
      "\u001b[32m[I 2021-01-26 12:13:15,901]\u001b[0m Trial 60 finished with value: 0.7752829587119402 and parameters: {'classifier': 'RandomForest', 'n_estimators': 250, 'max_depth': 44.52302294456523}. Best is trial 33 with value: 0.7801928901641958.\u001b[0m\n",
      "\u001b[32m[I 2021-01-26 12:13:16,669]\u001b[0m Trial 61 finished with value: 0.7753068707157661 and parameters: {'classifier': 'RandomForest', 'n_estimators': 320, 'max_depth': 69.91653638294446}. Best is trial 33 with value: 0.7801928901641958.\u001b[0m\n",
      "\u001b[32m[I 2021-01-26 12:13:17,449]\u001b[0m Trial 62 finished with value: 0.7638849035549179 and parameters: {'classifier': 'RandomForest', 'n_estimators': 320, 'max_depth': 61.10558760671098}. Best is trial 33 with value: 0.7801928901641958.\u001b[0m\n",
      "\u001b[32m[I 2021-01-26 12:13:19,027]\u001b[0m Trial 63 finished with value: 0.7752909293798821 and parameters: {'classifier': 'RandomForest', 'n_estimators': 580, 'max_depth': 71.3907316337085}. Best is trial 33 with value: 0.7801928901641958.\u001b[0m\n",
      "\u001b[32m[I 2021-01-26 12:13:20,219]\u001b[0m Trial 64 finished with value: 0.767136936075243 and parameters: {'classifier': 'RandomForest', 'n_estimators': 450, 'max_depth': 69.56151000898336}. Best is trial 33 with value: 0.7801928901641958.\u001b[0m\n",
      "\u001b[32m[I 2021-01-26 12:13:20,705]\u001b[0m Trial 65 finished with value: 0.7622827992985813 and parameters: {'classifier': 'RandomForest', 'n_estimators': 200, 'max_depth': 75.3053672296249}. Best is trial 33 with value: 0.7801928901641958.\u001b[0m\n",
      "\u001b[32m[I 2021-01-26 12:13:22,083]\u001b[0m Trial 66 finished with value: 0.7703969392635103 and parameters: {'classifier': 'RandomForest', 'n_estimators': 540, 'max_depth': 48.172588589227466}. Best is trial 33 with value: 0.7801928901641958.\u001b[0m\n",
      "\u001b[32m[I 2021-01-26 12:13:23,143]\u001b[0m Trial 67 finished with value: 0.7671528774111271 and parameters: {'classifier': 'RandomForest', 'n_estimators': 350, 'max_depth': 54.90112841592549}. Best is trial 33 with value: 0.7801928901641958.\u001b[0m\n",
      "\u001b[32m[I 2021-01-26 12:13:28,254]\u001b[0m Trial 68 finished with value: 0.7704049099314524 and parameters: {'classifier': 'RandomForest', 'n_estimators': 2000, 'max_depth': 64.09176204729243}. Best is trial 33 with value: 0.7801928901641958.\u001b[0m\n",
      "\u001b[32m[I 2021-01-26 12:13:30,698]\u001b[0m Trial 69 finished with value: 0.7638849035549179 and parameters: {'classifier': 'RandomForest', 'n_estimators': 780, 'max_depth': 42.38470232487291}. Best is trial 33 with value: 0.7801928901641958.\u001b[0m\n"
     ]
    },
    {
     "name": "stderr",
     "output_type": "stream",
     "text": [
      "\u001b[32m[I 2021-01-26 12:13:32,618]\u001b[0m Trial 70 finished with value: 0.7687629523354057 and parameters: {'classifier': 'RandomForest', 'n_estimators': 680, 'max_depth': 33.91002077252934}. Best is trial 33 with value: 0.7801928901641958.\u001b[0m\n",
      "\u001b[32m[I 2021-01-26 12:13:35,153]\u001b[0m Trial 71 finished with value: 0.7655109198150805 and parameters: {'classifier': 'RandomForest', 'n_estimators': 860, 'max_depth': 29.67245522663525}. Best is trial 33 with value: 0.7801928901641958.\u001b[0m\n",
      "\u001b[32m[I 2021-01-26 12:13:36,478]\u001b[0m Trial 72 finished with value: 0.7638928742228598 and parameters: {'classifier': 'RandomForest', 'n_estimators': 580, 'max_depth': 71.17195571107239}. Best is trial 33 with value: 0.7801928901641958.\u001b[0m\n",
      "\u001b[32m[I 2021-01-26 12:13:37,645]\u001b[0m Trial 73 finished with value: 0.7622588872947552 and parameters: {'classifier': 'RandomForest', 'n_estimators': 450, 'max_depth': 81.53136145180552}. Best is trial 33 with value: 0.7801928901641958.\u001b[0m\n",
      "\u001b[32m[I 2021-01-26 12:13:38,423]\u001b[0m Trial 74 finished with value: 0.7704128805993943 and parameters: {'classifier': 'RandomForest', 'n_estimators': 300, 'max_depth': 88.57239739073073}. Best is trial 33 with value: 0.7801928901641958.\u001b[0m\n",
      "\u001b[32m[I 2021-01-26 12:13:40,331]\u001b[0m Trial 75 finished with value: 0.7687788936712897 and parameters: {'classifier': 'RandomForest', 'n_estimators': 740, 'max_depth': 13.586712772772099}. Best is trial 33 with value: 0.7801928901641958.\u001b[0m\n",
      "\u001b[32m[I 2021-01-26 12:13:41,976]\u001b[0m Trial 76 finished with value: 0.7622509166268133 and parameters: {'classifier': 'RandomForest', 'n_estimators': 650, 'max_depth': 38.49572033127976}. Best is trial 33 with value: 0.7801928901641958.\u001b[0m\n",
      "\u001b[32m[I 2021-01-26 12:13:42,502]\u001b[0m Trial 77 finished with value: 0.767136936075243 and parameters: {'classifier': 'RandomForest', 'n_estimators': 200, 'max_depth': 15.286932116131066}. Best is trial 33 with value: 0.7801928901641958.\u001b[0m\n",
      "\u001b[32m[I 2021-01-26 12:13:42,561]\u001b[0m Trial 78 finished with value: 0.6530926191614858 and parameters: {'classifier': 'SVC', 'svc_c': 65569.57493134649}. Best is trial 33 with value: 0.7801928901641958.\u001b[0m\n",
      "\u001b[32m[I 2021-01-26 12:13:45,234]\u001b[0m Trial 79 finished with value: 0.7720229555236728 and parameters: {'classifier': 'RandomForest', 'n_estimators': 820, 'max_depth': 28.824636594145392}. Best is trial 33 with value: 0.7801928901641958.\u001b[0m\n",
      "\u001b[32m[I 2021-01-26 12:13:47,035]\u001b[0m Trial 80 finished with value: 0.7687788936712897 and parameters: {'classifier': 'RandomForest', 'n_estimators': 710, 'max_depth': 65.18271555870945}. Best is trial 33 with value: 0.7801928901641958.\u001b[0m\n",
      "\u001b[32m[I 2021-01-26 12:13:48,596]\u001b[0m Trial 81 finished with value: 0.7703969392635103 and parameters: {'classifier': 'RandomForest', 'n_estimators': 600, 'max_depth': 85.4378944076361}. Best is trial 33 with value: 0.7801928901641958.\u001b[0m\n",
      "\u001b[32m[I 2021-01-26 12:13:51,282]\u001b[0m Trial 82 finished with value: 0.7703969392635103 and parameters: {'classifier': 'RandomForest', 'n_estimators': 960, 'max_depth': 70.51522709758893}. Best is trial 33 with value: 0.7801928901641958.\u001b[0m\n",
      "\u001b[32m[I 2021-01-26 12:13:52,499]\u001b[0m Trial 83 finished with value: 0.7687709230033476 and parameters: {'classifier': 'RandomForest', 'n_estimators': 500, 'max_depth': 95.03081703545216}. Best is trial 33 with value: 0.7801928901641958.\u001b[0m\n",
      "\u001b[32m[I 2021-01-26 12:13:53,477]\u001b[0m Trial 84 finished with value: 0.7655188904830225 and parameters: {'classifier': 'RandomForest', 'n_estimators': 360, 'max_depth': 22.903961348658672}. Best is trial 33 with value: 0.7801928901641958.\u001b[0m\n",
      "\u001b[32m[I 2021-01-26 12:13:55,673]\u001b[0m Trial 85 finished with value: 0.7687868643392317 and parameters: {'classifier': 'RandomForest', 'n_estimators': 800, 'max_depth': 11.153223496013611}. Best is trial 33 with value: 0.7801928901641958.\u001b[0m\n",
      "\u001b[32m[I 2021-01-26 12:13:57,297]\u001b[0m Trial 86 finished with value: 0.7703889685955683 and parameters: {'classifier': 'RandomForest', 'n_estimators': 690, 'max_depth': 54.957673504373226}. Best is trial 33 with value: 0.7801928901641958.\u001b[0m\n",
      "\u001b[32m[I 2021-01-26 12:13:58,307]\u001b[0m Trial 87 finished with value: 0.7671289654073011 and parameters: {'classifier': 'RandomForest', 'n_estimators': 410, 'max_depth': 48.04563462807974}. Best is trial 33 with value: 0.7801928901641958.\u001b[0m\n",
      "\u001b[32m[I 2021-01-26 12:13:59,009]\u001b[0m Trial 88 finished with value: 0.7671528774111271 and parameters: {'classifier': 'RandomForest', 'n_estimators': 290, 'max_depth': 27.1719705748616}. Best is trial 33 with value: 0.7801928901641958.\u001b[0m\n",
      "\u001b[32m[I 2021-01-26 12:14:00,499]\u001b[0m Trial 89 finished with value: 0.7638849035549179 and parameters: {'classifier': 'RandomForest', 'n_estimators': 580, 'max_depth': 80.49853321515549}. Best is trial 33 with value: 0.7801928901641958.\u001b[0m\n",
      "\u001b[32m[I 2021-01-26 12:14:00,537]\u001b[0m Trial 90 finished with value: 0.6530926191614858 and parameters: {'classifier': 'SVC', 'svc_c': 1.566542284503695e-10}. Best is trial 33 with value: 0.7801928901641958.\u001b[0m\n",
      "\u001b[32m[I 2021-01-26 12:14:01,235]\u001b[0m Trial 91 finished with value: 0.7720229555236728 and parameters: {'classifier': 'RandomForest', 'n_estimators': 210, 'max_depth': 43.550161686370124}. Best is trial 33 with value: 0.7801928901641958.\u001b[0m\n",
      "\u001b[32m[I 2021-01-26 12:14:01,900]\u001b[0m Trial 92 finished with value: 0.7622349752909293 and parameters: {'classifier': 'RandomForest', 'n_estimators': 270, 'max_depth': 45.37230845216562}. Best is trial 33 with value: 0.7801928901641958.\u001b[0m\n",
      "\u001b[32m[I 2021-01-26 12:14:02,489]\u001b[0m Trial 93 finished with value: 0.7654949784791966 and parameters: {'classifier': 'RandomForest', 'n_estimators': 250, 'max_depth': 61.87917994237216}. Best is trial 33 with value: 0.7801928901641958.\u001b[0m\n",
      "\u001b[32m[I 2021-01-26 12:14:04,238]\u001b[0m Trial 94 finished with value: 0.7703969392635103 and parameters: {'classifier': 'RandomForest', 'n_estimators': 760, 'max_depth': 39.805179206060025}. Best is trial 33 with value: 0.7801928901641958.\u001b[0m\n",
      "\u001b[32m[I 2021-01-26 12:14:06,350]\u001b[0m Trial 95 finished with value: 0.7687788936712897 and parameters: {'classifier': 'RandomForest', 'n_estimators': 850, 'max_depth': 35.682575404232466}. Best is trial 33 with value: 0.7801928901641958.\u001b[0m\n",
      "\u001b[32m[I 2021-01-26 12:14:08,615]\u001b[0m Trial 96 finished with value: 0.7704128805993943 and parameters: {'classifier': 'RandomForest', 'n_estimators': 920, 'max_depth': 55.3420416298062}. Best is trial 33 with value: 0.7801928901641958.\u001b[0m\n",
      "\u001b[32m[I 2021-01-26 12:14:11,270]\u001b[0m Trial 97 finished with value: 0.7687868643392317 and parameters: {'classifier': 'RandomForest', 'n_estimators': 1010, 'max_depth': 73.60071833255074}. Best is trial 33 with value: 0.7801928901641958.\u001b[0m\n",
      "\u001b[32m[I 2021-01-26 12:14:12,085]\u001b[0m Trial 98 finished with value: 0.7655268611509646 and parameters: {'classifier': 'RandomForest', 'n_estimators': 240, 'max_depth': 46.59752430581949}. Best is trial 33 with value: 0.7801928901641958.\u001b[0m\n",
      "\u001b[32m[I 2021-01-26 12:14:13,034]\u001b[0m Trial 99 finished with value: 0.7785429619002073 and parameters: {'classifier': 'RandomForest', 'n_estimators': 360, 'max_depth': 10.931560399296275}. Best is trial 33 with value: 0.7801928901641958.\u001b[0m\n"
     ]
    },
    {
     "name": "stdout",
     "output_type": "stream",
     "text": [
      "Accuracy: 0.7801928901641958\n",
      "Best hyperparameters: {'classifier': 'RandomForest', 'n_estimators': 730, 'max_depth': 25.90196922553536}\n"
     ]
    }
   ],
   "source": [
    "study = optuna.create_study(direction='maximize')\n",
    "study.optimize(objective, n_trials=100)\n",
    "\n",
    "trial = study.best_trial\n",
    "\n",
    "print('Accuracy: {}'.format(trial.value))\n",
    "print(\"Best hyperparameters: {}\".format(trial.params))"
   ]
  },
  {
   "cell_type": "code",
   "execution_count": 54,
   "metadata": {},
   "outputs": [
    {
     "data": {
      "text/plain": [
       "FrozenTrial(number=33, values=[0.7801928901641958], datetime_start=datetime.datetime(2021, 1, 26, 12, 12, 27, 369795), datetime_complete=datetime.datetime(2021, 1, 26, 12, 12, 29, 352212), params={'classifier': 'RandomForest', 'n_estimators': 730, 'max_depth': 25.90196922553536}, distributions={'classifier': CategoricalDistribution(choices=('RandomForest', 'SVC')), 'n_estimators': IntUniformDistribution(high=2000, low=200, step=10), 'max_depth': LogUniformDistribution(high=100, low=10)}, user_attrs={}, system_attrs={}, intermediate_values={}, trial_id=33, state=TrialState.COMPLETE, value=None)"
      ]
     },
     "execution_count": 54,
     "metadata": {},
     "output_type": "execute_result"
    }
   ],
   "source": [
    "trial"
   ]
  },
  {
   "cell_type": "code",
   "execution_count": 55,
   "metadata": {},
   "outputs": [
    {
     "data": {
      "text/plain": [
       "{'classifier': 'RandomForest',\n",
       " 'n_estimators': 730,\n",
       " 'max_depth': 25.90196922553536}"
      ]
     },
     "execution_count": 55,
     "metadata": {},
     "output_type": "execute_result"
    }
   ],
   "source": [
    "study.best_params\n"
   ]
  },
  {
   "cell_type": "code",
   "execution_count": 56,
   "metadata": {},
   "outputs": [
    {
     "data": {
      "text/plain": [
       "RandomForestClassifier(max_depth=30, n_estimators=330)"
      ]
     },
     "execution_count": 56,
     "metadata": {},
     "output_type": "execute_result"
    }
   ],
   "source": [
    "rf=RandomForestClassifier(n_estimators=330,max_depth=30)\n",
    "rf.fit(X_train,y_train)"
   ]
  },
  {
   "cell_type": "code",
   "execution_count": 57,
   "metadata": {},
   "outputs": [
    {
     "name": "stdout",
     "output_type": "stream",
     "text": [
      "[[86 13]\n",
      " [23 32]]\n",
      "0.7662337662337663\n",
      "              precision    recall  f1-score   support\n",
      "\n",
      "           0       0.79      0.87      0.83        99\n",
      "           1       0.71      0.58      0.64        55\n",
      "\n",
      "    accuracy                           0.77       154\n",
      "   macro avg       0.75      0.73      0.73       154\n",
      "weighted avg       0.76      0.77      0.76       154\n",
      "\n"
     ]
    }
   ],
   "source": [
    "y_pred=rf.predict(X_test)\n",
    "print(confusion_matrix(y_test,y_pred))\n",
    "print(accuracy_score(y_test,y_pred))\n",
    "print(classification_report(y_test,y_pred))"
   ]
  },
  {
   "cell_type": "code",
   "execution_count": null,
   "metadata": {},
   "outputs": [],
   "source": []
  }
 ],
 "metadata": {
  "kernelspec": {
   "display_name": "Python 3",
   "language": "python",
   "name": "python3"
  },
  "language_info": {
   "codemirror_mode": {
    "name": "ipython",
    "version": 3
   },
   "file_extension": ".py",
   "mimetype": "text/x-python",
   "name": "python",
   "nbconvert_exporter": "python",
   "pygments_lexer": "ipython3",
   "version": "3.6.10"
  }
 },
 "nbformat": 4,
 "nbformat_minor": 4
}
